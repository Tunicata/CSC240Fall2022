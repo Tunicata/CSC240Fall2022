{
 "cells": [
  {
   "cell_type": "code",
   "execution_count": 21,
   "outputs": [],
   "source": [
    "import pandas as pd\n",
    "import numpy as np\n",
    "import itertools\n",
    "from random import shuffle"
   ],
   "metadata": {
    "collapsed": false,
    "pycharm": {
     "name": "#%%\n"
    }
   }
  },
  {
   "cell_type": "code",
   "execution_count": 22,
   "outputs": [
    {
     "data": {
      "text/plain": "   0                 1       2          3   4                   5   \\\n0  39         State-gov   77516  Bachelors  13       Never-married   \n1  50  Self-emp-not-inc   83311  Bachelors  13  Married-civ-spouse   \n2  38           Private  215646    HS-grad   9            Divorced   \n3  53           Private  234721       11th   7  Married-civ-spouse   \n4  28           Private  338409  Bachelors  13  Married-civ-spouse   \n\n                  6              7      8       9     10  11  12  \\\n0       Adm-clerical  Not-in-family  White    Male  2174   0  40   \n1    Exec-managerial        Husband  White    Male     0   0  13   \n2  Handlers-cleaners  Not-in-family  White    Male     0   0  40   \n3  Handlers-cleaners        Husband  Black    Male     0   0  40   \n4     Prof-specialty           Wife  Black  Female     0   0  40   \n\n              13     14  \n0  United-States  <=50K  \n1  United-States  <=50K  \n2  United-States  <=50K  \n3  United-States  <=50K  \n4           Cuba  <=50K  ",
      "text/html": "<div>\n<style scoped>\n    .dataframe tbody tr th:only-of-type {\n        vertical-align: middle;\n    }\n\n    .dataframe tbody tr th {\n        vertical-align: top;\n    }\n\n    .dataframe thead th {\n        text-align: right;\n    }\n</style>\n<table border=\"1\" class=\"dataframe\">\n  <thead>\n    <tr style=\"text-align: right;\">\n      <th></th>\n      <th>0</th>\n      <th>1</th>\n      <th>2</th>\n      <th>3</th>\n      <th>4</th>\n      <th>5</th>\n      <th>6</th>\n      <th>7</th>\n      <th>8</th>\n      <th>9</th>\n      <th>10</th>\n      <th>11</th>\n      <th>12</th>\n      <th>13</th>\n      <th>14</th>\n    </tr>\n  </thead>\n  <tbody>\n    <tr>\n      <th>0</th>\n      <td>39</td>\n      <td>State-gov</td>\n      <td>77516</td>\n      <td>Bachelors</td>\n      <td>13</td>\n      <td>Never-married</td>\n      <td>Adm-clerical</td>\n      <td>Not-in-family</td>\n      <td>White</td>\n      <td>Male</td>\n      <td>2174</td>\n      <td>0</td>\n      <td>40</td>\n      <td>United-States</td>\n      <td>&lt;=50K</td>\n    </tr>\n    <tr>\n      <th>1</th>\n      <td>50</td>\n      <td>Self-emp-not-inc</td>\n      <td>83311</td>\n      <td>Bachelors</td>\n      <td>13</td>\n      <td>Married-civ-spouse</td>\n      <td>Exec-managerial</td>\n      <td>Husband</td>\n      <td>White</td>\n      <td>Male</td>\n      <td>0</td>\n      <td>0</td>\n      <td>13</td>\n      <td>United-States</td>\n      <td>&lt;=50K</td>\n    </tr>\n    <tr>\n      <th>2</th>\n      <td>38</td>\n      <td>Private</td>\n      <td>215646</td>\n      <td>HS-grad</td>\n      <td>9</td>\n      <td>Divorced</td>\n      <td>Handlers-cleaners</td>\n      <td>Not-in-family</td>\n      <td>White</td>\n      <td>Male</td>\n      <td>0</td>\n      <td>0</td>\n      <td>40</td>\n      <td>United-States</td>\n      <td>&lt;=50K</td>\n    </tr>\n    <tr>\n      <th>3</th>\n      <td>53</td>\n      <td>Private</td>\n      <td>234721</td>\n      <td>11th</td>\n      <td>7</td>\n      <td>Married-civ-spouse</td>\n      <td>Handlers-cleaners</td>\n      <td>Husband</td>\n      <td>Black</td>\n      <td>Male</td>\n      <td>0</td>\n      <td>0</td>\n      <td>40</td>\n      <td>United-States</td>\n      <td>&lt;=50K</td>\n    </tr>\n    <tr>\n      <th>4</th>\n      <td>28</td>\n      <td>Private</td>\n      <td>338409</td>\n      <td>Bachelors</td>\n      <td>13</td>\n      <td>Married-civ-spouse</td>\n      <td>Prof-specialty</td>\n      <td>Wife</td>\n      <td>Black</td>\n      <td>Female</td>\n      <td>0</td>\n      <td>0</td>\n      <td>40</td>\n      <td>Cuba</td>\n      <td>&lt;=50K</td>\n    </tr>\n  </tbody>\n</table>\n</div>"
     },
     "execution_count": 22,
     "metadata": {},
     "output_type": "execute_result"
    }
   ],
   "source": [
    "# read in original data as a dataframe\n",
    "df = pd.read_csv('adult.data', header=None, skipinitialspace=True)\n",
    "df.head()"
   ],
   "metadata": {
    "collapsed": false,
    "pycharm": {
     "name": "#%%\n"
    }
   }
  },
  {
   "cell_type": "code",
   "execution_count": 23,
   "outputs": [
    {
     "name": "stdout",
     "output_type": "stream",
     "text": [
      "<class 'pandas.core.frame.DataFrame'>\n",
      "RangeIndex: 32561 entries, 0 to 32560\n",
      "Data columns (total 15 columns):\n",
      " #   Column  Non-Null Count  Dtype \n",
      "---  ------  --------------  ----- \n",
      " 0   0       32561 non-null  int64 \n",
      " 1   1       32561 non-null  object\n",
      " 2   2       32561 non-null  int64 \n",
      " 3   3       32561 non-null  object\n",
      " 4   4       32561 non-null  int64 \n",
      " 5   5       32561 non-null  object\n",
      " 6   6       32561 non-null  object\n",
      " 7   7       32561 non-null  object\n",
      " 8   8       32561 non-null  object\n",
      " 9   9       32561 non-null  object\n",
      " 10  10      32561 non-null  int64 \n",
      " 11  11      32561 non-null  int64 \n",
      " 12  12      32561 non-null  int64 \n",
      " 13  13      32561 non-null  object\n",
      " 14  14      32561 non-null  object\n",
      "dtypes: int64(6), object(9)\n",
      "memory usage: 3.7+ MB\n"
     ]
    }
   ],
   "source": [
    "df.info()\n",
    "df_names = [\"age\", \"workclass\", \"fnlwgt\", \"education\", \"education-num\", \"marital-status\", \"occupation\", \"relationship\",\n",
    "            \"race\", \"sex\", \"capital-gain\", \"capital-loss\", \"hours-per-week\", \"native-country\"]"
   ],
   "metadata": {
    "collapsed": false,
    "pycharm": {
     "name": "#%%\n"
    }
   }
  },
  {
   "cell_type": "code",
   "execution_count": 24,
   "outputs": [
    {
     "data": {
      "text/plain": "[8.0, -1, 147242.0, -1, 2.0, -1, -1, -1, -1, -1, 10000.0, 436.0, 10.0, -1]"
     },
     "execution_count": 24,
     "metadata": {},
     "output_type": "execute_result"
    }
   ],
   "source": [
    "max_sample = df.max()\n",
    "min_sample = df.min()\n",
    "steps = []\n",
    "\n",
    "for i in range(14):\n",
    "    try:\n",
    "        step = int(max_sample[i]) - int(min_sample[i])\n",
    "        steps.append(np.ceil(step/10))\n",
    "    except:\n",
    "        steps.append(-1)\n",
    "\n",
    "steps"
   ],
   "metadata": {
    "collapsed": false,
    "pycharm": {
     "name": "#%%\n"
    }
   }
  },
  {
   "cell_type": "code",
   "execution_count": 25,
   "outputs": [
    {
     "data": {
      "text/plain": "{'Adm-clerical',\n 'Bachelors',\n 'Male',\n 'Never-married',\n 'Not-in-family',\n 'State-gov',\n 'United-States',\n 'White',\n 'age4',\n 'capital-gain0',\n 'capital-loss0',\n 'fnlwgt0',\n 'hours-per-week4'}"
     },
     "execution_count": 25,
     "metadata": {},
     "output_type": "execute_result"
    }
   ],
   "source": [
    "# preprocess data set\n",
    "adult_data = []\n",
    "\n",
    "for adult in df.values:\n",
    "    adult_set = set()\n",
    "    for i in range(14):\n",
    "        # ignore missing index\n",
    "        if adult[i] == \"?\":\n",
    "            pass\n",
    "        # convert continuous data to categorical ones based on the steps.\n",
    "        elif i in {0, 2, 10, 11, 12}:\n",
    "            adult_set.add(df_names[i] + str(int(np.floor(adult[i]/steps[i]))))\n",
    "        # ignore repeated data\n",
    "        elif i == 4:\n",
    "            pass\n",
    "        else:\n",
    "            adult_set.add(adult[i])\n",
    "    adult_data.append(adult_set)\n",
    "\n",
    "# cut the first 100 transactions as the test data set\n",
    "adult_data[0]"
   ],
   "metadata": {
    "collapsed": false,
    "pycharm": {
     "name": "#%%\n"
    }
   }
  },
  {
   "cell_type": "code",
   "execution_count": 26,
   "outputs": [],
   "source": [
    "# first scan\n",
    "def first_scan(data_set, min_support):\n",
    "    c1 = []\n",
    "    supports = []\n",
    "\n",
    "    # generate Candidate C1 and count support\n",
    "    for transaction in data_set:\n",
    "        for item in transaction:\n",
    "            if not {item} in c1:\n",
    "                c1.append({item})\n",
    "                supports.append(1)\n",
    "            else:\n",
    "                supports[c1.index({item})] += 1\n",
    "\n",
    "    # compare candidates with min_support\n",
    "    item_set = []\n",
    "    frequent_dict = []\n",
    "    for idx in range(len(c1)):\n",
    "        if supports[idx] >= min_support:\n",
    "            item_set.append(c1[idx])\n",
    "            frequent_dict.append((c1[idx], supports[idx]))\n",
    "\n",
    "    # generate new candidates\n",
    "    temp = list(itertools.combinations(item_set, 2))\n",
    "    temp = [set.union(combination[0], combination[1]) for combination in temp]\n",
    "    new_item_set = []\n",
    "    [new_item_set.append(candidate) for candidate in temp if not i in new_item_set]\n",
    "\n",
    "    return frequent_dict, new_item_set"
   ],
   "metadata": {
    "collapsed": false,
    "pycharm": {
     "name": "#%%\n"
    }
   }
  },
  {
   "cell_type": "code",
   "execution_count": 27,
   "outputs": [],
   "source": [
    "# a helper function use to get the subsets with a specific length from a iterable object\n",
    "def power_set(iterable):\n",
    "    s = list(iterable)\n",
    "    return itertools.chain.from_iterable(itertools.combinations(s, r) for r in range(len(s) + 1))\n",
    "\n",
    "def k_subsets(s, k):\n",
    "    return [set(item) for item in power_set(s) if len(item) == k]"
   ],
   "metadata": {
    "collapsed": false,
    "pycharm": {
     "name": "#%%\n"
    }
   }
  },
  {
   "cell_type": "code",
   "execution_count": 28,
   "outputs": [],
   "source": [
    "# general scan function\n",
    "def scan(data_set, ck, min_support, print_flag=False):\n",
    "    supports = [0 for candidate in ck]\n",
    "    fre_data_sets = []\n",
    "\n",
    "    # count support of these candidates\n",
    "    for transaction in data_set:\n",
    "        fre_flag = False\n",
    "        for candidate in ck:\n",
    "            if candidate.issubset(transaction):\n",
    "                supports[ck.index(candidate)] += 1\n",
    "                fre_flag = True\n",
    "\n",
    "        # save the frequent transactions for the next scan, and discard the infrequent ones\n",
    "        if fre_flag:\n",
    "            fre_data_sets.append(transaction)\n",
    "\n",
    "    # compare candidates with min_support\n",
    "    frequent_item_sets = []\n",
    "    frequent_dict= []\n",
    "    for idx in range(len(ck)):\n",
    "        if supports[idx] >= min_support:\n",
    "            frequent_item_sets.append(ck[idx])\n",
    "            frequent_dict.append((ck[idx], supports[idx]))\n",
    "            if print_flag:\n",
    "                print(ck[idx], supports[idx])\n",
    "\n",
    "    if not frequent_item_sets:\n",
    "        return []\n",
    "\n",
    "    # generate new candidates\n",
    "    k_num = len(frequent_item_sets[0])\n",
    "\n",
    "    temp = list(itertools.combinations(frequent_item_sets, 2))\n",
    "    temp = [combination[0].union(combination[1]) for combination in temp\n",
    "            if combination[0]&combination[1] and len(combination[0]&combination[1]) == k_num-1]\n",
    "\n",
    "    new_item_set = []\n",
    "\n",
    "    # check whether those candidates repeated or have infrequent subsets\n",
    "    for candidate in temp:\n",
    "        if candidate not in new_item_set:\n",
    "            subsets = k_subsets(candidate, k_num)\n",
    "            flag = True\n",
    "            for item in subsets:\n",
    "                if item not in frequent_item_sets:\n",
    "                    flag = False\n",
    "                    break\n",
    "            if flag:\n",
    "                new_item_set.append(candidate)\n",
    "\n",
    "    return frequent_dict, new_item_set, fre_data_sets"
   ],
   "metadata": {
    "collapsed": false,
    "pycharm": {
     "name": "#%%\n"
    }
   }
  },
  {
   "cell_type": "code",
   "execution_count": 29,
   "outputs": [],
   "source": [
    "# integrate previous functions\n",
    "\n",
    "def apriori(data_set, min_sup):\n",
    "    frequent_item_set = []\n",
    "\n",
    "    temp_frequent_dict, ck = first_scan(data_set, min_sup)\n",
    "    frequent_item_set += temp_frequent_dict\n",
    "\n",
    "    while ck:\n",
    "        temp_frequent_dict, ck, data_set = scan(data_set, ck, min_sup)\n",
    "        frequent_item_set += temp_frequent_dict\n",
    "\n",
    "    return frequent_item_set\n",
    "\n",
    "adult_fre_item_set1 = apriori(adult_data[:100], 50)"
   ],
   "metadata": {
    "collapsed": false,
    "pycharm": {
     "name": "#%%\n"
    }
   }
  },
  {
   "cell_type": "code",
   "execution_count": 30,
   "outputs": [],
   "source": [
    "# fp tree node\n",
    "\n",
    "class Node:\n",
    "    def __init__(self, item, fre_count):\n",
    "        self.item = item\n",
    "        self.fre_count = fre_count\n",
    "        self.children = set()\n",
    "        self.node_link = None\n",
    "\n",
    "    def increment(self, fre=1):\n",
    "        self.fre_count += fre\n",
    "\n",
    "    def add_child(self, new_node):\n",
    "        self.children.add(new_node)\n",
    "        return new_node\n",
    "\n",
    "    def get_child(self, item):\n",
    "        for child in self.children:\n",
    "            if child.item == item:\n",
    "                return child\n",
    "        return None\n",
    "\n",
    "    def display(self, level=0):\n",
    "        print(\"|\"*level+\"-\" ,self.item, self.fre_count)\n",
    "        for child in self.children:\n",
    "            child.display(level+1)\n"
   ],
   "metadata": {
    "collapsed": false,
    "pycharm": {
     "name": "#%%\n"
    }
   }
  },
  {
   "cell_type": "code",
   "execution_count": 31,
   "outputs": [],
   "source": [
    "#transfer the data set to vertical version with a head table\n",
    "def vertical_transfer(data_set, min_sup, frequency=None):\n",
    "    if frequency:\n",
    "        vertical_data = {}\n",
    "        # generate the head table only with a frequency input\n",
    "        for i in range(len(data_set)):\n",
    "            fre_count = frequency[i]\n",
    "            for item in data_set[i]:\n",
    "                if not item in vertical_data.keys():\n",
    "                    vertical_data[item] = fre_count\n",
    "                else:\n",
    "                    vertical_data[item] += fre_count\n",
    "\n",
    "        item_seq = [[key, value, None] for key, value in vertical_data.items() if value >= min_sup]\n",
    "        item_seq.sort(key=(lambda x: x[1]), reverse=True)\n",
    "\n",
    "        return item_seq\n",
    "\n",
    "    else:\n",
    "        vertical_data = {}\n",
    "        item_seq = []\n",
    "        # generate the vertical data set\n",
    "        for transaction in data_set:\n",
    "            for item in transaction:\n",
    "                if not item in vertical_data.keys():\n",
    "                    vertical_data[item] = [transaction]\n",
    "                    item_seq.append(item)\n",
    "                else:\n",
    "                    vertical_data[item].append(transaction)\n",
    "\n",
    "        item_seq = [[item, len(vertical_data[item]), None] for item in item_seq if len(vertical_data[item]) >= min_sup]\n",
    "        item_seq.sort(key=(lambda x: x[1]), reverse=True)\n",
    "\n",
    "        return vertical_data, item_seq"
   ],
   "metadata": {
    "collapsed": false,
    "pycharm": {
     "name": "#%%\n"
    }
   }
  },
  {
   "cell_type": "code",
   "execution_count": 32,
   "outputs": [],
   "source": [
    "# function construct the fp tree\n",
    "def tree_construction(data_set, min_sup, display=False):\n",
    "    vertical_data, head_table = vertical_transfer(data_set, min_sup)\n",
    "\n",
    "    fp_tree = Node(None, -1)\n",
    "\n",
    "    # scan the data_set again\n",
    "    for transaction in data_set:\n",
    "        current_node = fp_tree\n",
    "        for item in head_table:\n",
    "            if item[0] in transaction:\n",
    "                child_node = current_node.get_child(item[0])\n",
    "                if child_node:\n",
    "                    child_node.increment()\n",
    "                else:\n",
    "                    child_node = current_node.add_child(Node(item[0], 1))\n",
    "                    if item[2]:\n",
    "                        next_link = item[2]\n",
    "                        while next_link.node_link:\n",
    "                            next_link = next_link.node_link\n",
    "                        next_link.node_link = child_node\n",
    "                    else:\n",
    "                        item[2] = child_node\n",
    "\n",
    "                current_node = child_node\n",
    "\n",
    "    if display:\n",
    "        for line in head_table:\n",
    "            print(line)\n",
    "        fp_tree.display()\n",
    "\n",
    "    return head_table, fp_tree"
   ],
   "metadata": {
    "collapsed": false,
    "pycharm": {
     "name": "#%%\n"
    }
   }
  },
  {
   "cell_type": "code",
   "execution_count": 33,
   "outputs": [],
   "source": [
    "# generate conditional pattern base from a fp tree\n",
    "def mine_fp_tree(fp_tree: Node, curr_path, conditional_pattern_base):\n",
    "    for child in fp_tree.children:\n",
    "        if child.item in conditional_pattern_base.keys():\n",
    "            conditional_pattern_base[child.item][0].append(curr_path.copy())\n",
    "            conditional_pattern_base[child.item][1].append(child.fre_count)\n",
    "        else:\n",
    "            conditional_pattern_base[child.item] = ([curr_path.copy()], [child.fre_count])\n",
    "        mine_fp_tree(child, curr_path+[child.item], conditional_pattern_base)"
   ],
   "metadata": {
    "collapsed": false,
    "pycharm": {
     "name": "#%%\n"
    }
   }
  },
  {
   "cell_type": "code",
   "execution_count": 34,
   "outputs": [],
   "source": [
    "# generate the frequent pattern from a sub frequent tree\n",
    "def mine_sub_fp_tree(fp_tree: Node, curr_path, p_sets):\n",
    "    if fp_tree.children:\n",
    "        for child in fp_tree.children:\n",
    "            mine_sub_fp_tree(child, curr_path.union({child.item}), p_sets)\n",
    "    else:\n",
    "        for p_set in p_sets:\n",
    "            if p_set[0].issubset(curr_path) and fp_tree.fre_count >= 0:\n",
    "                p_set[1] += fp_tree.fre_count\n"
   ],
   "metadata": {
    "collapsed": false,
    "pycharm": {
     "name": "#%%\n"
    }
   }
  },
  {
   "cell_type": "code",
   "execution_count": 35,
   "outputs": [],
   "source": [
    "def min_cp_base(conditional_pattern_base:dict, min_sup:int):\n",
    "    frequent_pattern = []\n",
    "\n",
    "    # go through each item in the conditional pattern base\n",
    "    for item_name, cpb in conditional_pattern_base.items():\n",
    "        sub_fp_tree = Node(None, -1)\n",
    "        paths = cpb[0]\n",
    "        frequencies = cpb[1]\n",
    "        head_table = vertical_transfer(paths, min_sup, frequencies)\n",
    "\n",
    "        # similar to the main fp tree construction, construct the sub fp tree\n",
    "        for i in range(len(paths)):\n",
    "            current_node = sub_fp_tree\n",
    "            path = paths[i]\n",
    "            frequency = frequencies[i]\n",
    "\n",
    "            for item in head_table:\n",
    "                if item[0] in path:\n",
    "                    child_node = current_node.get_child(item[0])\n",
    "                    if child_node:\n",
    "                        child_node.increment(frequency)\n",
    "                    else:\n",
    "                        child_node = current_node.add_child(Node(item[0], frequency))\n",
    "                        if item[2]:\n",
    "                            next_link = item[2]\n",
    "                            while next_link.node_link:\n",
    "                                next_link = next_link.node_link\n",
    "                            next_link.node_link = child_node\n",
    "                        else:\n",
    "                            item[2] = child_node\n",
    "\n",
    "                    current_node = child_node\n",
    "\n",
    "        #generate the frequent of each subtree\n",
    "        possible_item_sets = [[set(item), 0] for item in power_set({item[0] for item in head_table}.union({item_name}))\n",
    "                              if len(item) > 2 and item_name in item]\n",
    "\n",
    "        mine_sub_fp_tree(sub_fp_tree, {item_name}, possible_item_sets)\n",
    "\n",
    "        frequent_pattern += ([({item_name, item[0]}, item[1]) for item in head_table] +\n",
    "                             [tuple(item_set) for item_set in possible_item_sets if item_set[1]>=min_sup])\n",
    "\n",
    "    return frequent_pattern"
   ],
   "metadata": {
    "collapsed": false,
    "pycharm": {
     "name": "#%%\n"
    }
   }
  },
  {
   "cell_type": "code",
   "execution_count": 36,
   "outputs": [],
   "source": [
    "def fp_growth(data_base, min_sup):\n",
    "    head_table, fp_tree = tree_construction(data_base, min_sup)\n",
    "    frequent_item_set = [({item[0]}, item[1]) for item in head_table]\n",
    "    cp_base = {}\n",
    "    mine_fp_tree(fp_tree, [], cp_base)\n",
    "    frequent_item_set += min_cp_base(cp_base, min_sup)\n",
    "    return frequent_item_set\n",
    "\n",
    "adult_fre_item_set2 = fp_growth(adult_data[:100], 50)"
   ],
   "metadata": {
    "collapsed": false,
    "pycharm": {
     "name": "#%%\n"
    }
   }
  },
  {
   "cell_type": "code",
   "execution_count": 37,
   "outputs": [
    {
     "name": "stdout",
     "output_type": "stream",
     "text": [
      "Apriori Male => {Male, United-States}, Confidence = 0.8513513513513513\n",
      "FP-Growth Male => {Male, United-States}, Confidence = 0.8513513513513513\n"
     ]
    }
   ],
   "source": [
    "# the confidence for two frequent item sets\n",
    "def confidence(frequent_item0, frequent_item1, frequent_item_set):\n",
    "    union = frequent_item0.union(frequent_item1)\n",
    "    union_support = 0\n",
    "    item0_support = 0\n",
    "\n",
    "    for item in frequent_item_set:\n",
    "        if item[0] == union:\n",
    "            union_support = item[1]\n",
    "        if item[0] == frequent_item0:\n",
    "            item0_support = item[1]\n",
    "        if union_support and item0_support:\n",
    "            break\n",
    "    if item0_support:\n",
    "        return union_support/item0_support\n",
    "    else:\n",
    "        return 0\n",
    "\n",
    "print('Apriori Male => {Male, United-States}, Confidence =',\n",
    "      confidence({'Male'}, {'Male', 'United-States'} ,adult_fre_item_set1))\n",
    "\n",
    "print('FP-Growth Male => {Male, United-States}, Confidence =',\n",
    "      confidence({'Male'}, {'Male', 'United-States'} ,adult_fre_item_set2))"
   ],
   "metadata": {
    "collapsed": false,
    "pycharm": {
     "name": "#%%\n"
    }
   }
  },
  {
   "cell_type": "code",
   "execution_count": 38,
   "outputs": [
    {
     "name": "stdout",
     "output_type": "stream",
     "text": [
      "{'hours-per-week4'} => {'hours-per-week4', 'capital-loss0'} , Confidence = 0.967741935483871\n",
      "{'hours-per-week4'} => {'United-States', 'hours-per-week4'} , Confidence = 0.8225806451612904\n",
      "{'hours-per-week4'} => {'White', 'hours-per-week4'} , Confidence = 0.8225806451612904\n",
      "{'hours-per-week4'} => {'hours-per-week4', 'capital-gain0'} , Confidence = 0.9838709677419355\n",
      "{'hours-per-week4'} => {'hours-per-week4', 'capital-loss0', 'capital-gain0'} , Confidence = 0.9516129032258065\n",
      "{'hours-per-week4'} => {'United-States', 'hours-per-week4', 'capital-gain0'} , Confidence = 0.8064516129032258\n",
      "{'hours-per-week4'} => {'White', 'hours-per-week4', 'capital-gain0'} , Confidence = 0.8064516129032258\n",
      "{'capital-loss0'} => {'hours-per-week4', 'capital-loss0'} , Confidence = 0.631578947368421\n",
      "{'capital-loss0'} => {'Male', 'capital-loss0'} , Confidence = 0.7473684210526316\n",
      "{'capital-loss0'} => {'United-States', 'capital-loss0'} , Confidence = 0.8421052631578947\n",
      "{'capital-loss0'} => {'White', 'capital-loss0'} , Confidence = 0.8105263157894737\n",
      "{'capital-loss0'} => {'capital-loss0', 'capital-gain0'} , Confidence = 0.9789473684210527\n",
      "{'capital-loss0'} => {'Married-civ-spouse', 'capital-loss0'} , Confidence = 0.5368421052631579\n",
      "{'capital-loss0'} => {'fnlwgt1', 'capital-loss0'} , Confidence = 0.5578947368421052\n",
      "{'capital-loss0'} => {'Private', 'capital-loss0'} , Confidence = 0.6947368421052632\n",
      "{'capital-loss0'} => {'hours-per-week4', 'capital-loss0', 'capital-gain0'} , Confidence = 0.6210526315789474\n",
      "{'capital-loss0'} => {'United-States', 'Male', 'capital-loss0'} , Confidence = 0.631578947368421\n",
      "{'capital-loss0'} => {'White', 'Male', 'capital-loss0'} , Confidence = 0.6210526315789474\n",
      "{'capital-loss0'} => {'Male', 'capital-loss0', 'capital-gain0'} , Confidence = 0.7473684210526316\n",
      "{'capital-loss0'} => {'White', 'United-States', 'capital-loss0'} , Confidence = 0.7157894736842105\n",
      "{'capital-loss0'} => {'United-States', 'capital-loss0', 'capital-gain0'} , Confidence = 0.8210526315789474\n",
      "{'capital-loss0'} => {'Private', 'United-States', 'capital-loss0'} , Confidence = 0.5684210526315789\n",
      "{'capital-loss0'} => {'White', 'capital-loss0', 'capital-gain0'} , Confidence = 0.7894736842105263\n",
      "{'capital-loss0'} => {'Private', 'White', 'capital-loss0'} , Confidence = 0.5684210526315789\n",
      "{'capital-loss0'} => {'Married-civ-spouse', 'capital-loss0', 'capital-gain0'} , Confidence = 0.5368421052631579\n",
      "{'capital-loss0'} => {'fnlwgt1', 'capital-loss0', 'capital-gain0'} , Confidence = 0.5578947368421052\n",
      "{'capital-loss0'} => {'Private', 'capital-loss0', 'capital-gain0'} , Confidence = 0.6736842105263158\n",
      "{'capital-loss0'} => {'White', 'capital-loss0', 'Male', 'United-States'} , Confidence = 0.5473684210526316\n",
      "{'capital-loss0'} => {'capital-loss0', 'capital-gain0', 'Male', 'United-States'} , Confidence = 0.631578947368421\n",
      "{'capital-loss0'} => {'White', 'capital-loss0', 'capital-gain0', 'Male'} , Confidence = 0.6210526315789474\n",
      "{'capital-loss0'} => {'White', 'capital-loss0', 'capital-gain0', 'United-States'} , Confidence = 0.6947368421052632\n",
      "{'capital-loss0'} => {'Private', 'capital-loss0', 'capital-gain0', 'United-States'} , Confidence = 0.5473684210526316\n",
      "{'capital-loss0'} => {'Private', 'White', 'capital-loss0', 'capital-gain0'} , Confidence = 0.5473684210526316\n",
      "{'capital-loss0'} => {'capital-loss0', 'Male', 'United-States', 'White', 'capital-gain0'} , Confidence = 0.5473684210526316\n",
      "{'Male'} => {'Male', 'capital-loss0'} , Confidence = 0.9594594594594594\n",
      "{'Male'} => {'United-States', 'Male'} , Confidence = 0.8513513513513513\n",
      "{'Male'} => {'White', 'Male'} , Confidence = 0.8378378378378378\n",
      "{'Male'} => {'Male', 'capital-gain0'} , Confidence = 1.0\n",
      "{'Male'} => {'United-States', 'Male', 'capital-loss0'} , Confidence = 0.8108108108108109\n",
      "{'Male'} => {'White', 'Male', 'capital-loss0'} , Confidence = 0.7972972972972973\n",
      "{'Male'} => {'Male', 'capital-loss0', 'capital-gain0'} , Confidence = 0.9594594594594594\n",
      "{'Male'} => {'White', 'United-States', 'Male'} , Confidence = 0.7432432432432432\n",
      "{'Male'} => {'United-States', 'Male', 'capital-gain0'} , Confidence = 0.8513513513513513\n",
      "{'Male'} => {'White', 'Male', 'capital-gain0'} , Confidence = 0.8378378378378378\n",
      "{'Male'} => {'White', 'capital-loss0', 'Male', 'United-States'} , Confidence = 0.7027027027027027\n",
      "{'Male'} => {'capital-loss0', 'capital-gain0', 'Male', 'United-States'} , Confidence = 0.8108108108108109\n",
      "{'Male'} => {'White', 'capital-loss0', 'capital-gain0', 'Male'} , Confidence = 0.7972972972972973\n",
      "{'Male'} => {'White', 'capital-gain0', 'Male', 'United-States'} , Confidence = 0.7432432432432432\n",
      "{'Male'} => {'capital-loss0', 'Male', 'United-States', 'White', 'capital-gain0'} , Confidence = 0.7027027027027027\n",
      "{'United-States'} => {'United-States', 'hours-per-week4'} , Confidence = 0.6144578313253012\n",
      "{'United-States'} => {'United-States', 'capital-loss0'} , Confidence = 0.963855421686747\n",
      "{'United-States'} => {'United-States', 'Male'} , Confidence = 0.7590361445783133\n",
      "{'United-States'} => {'White', 'United-States'} , Confidence = 0.8554216867469879\n",
      "{'United-States'} => {'United-States', 'capital-gain0'} , Confidence = 0.9759036144578314\n",
      "{'United-States'} => {'Private', 'United-States'} , Confidence = 0.6746987951807228\n",
      "{'United-States'} => {'United-States', 'hours-per-week4', 'capital-gain0'} , Confidence = 0.6024096385542169\n",
      "{'United-States'} => {'United-States', 'Male', 'capital-loss0'} , Confidence = 0.7228915662650602\n",
      "{'United-States'} => {'White', 'United-States', 'capital-loss0'} , Confidence = 0.8192771084337349\n",
      "{'United-States'} => {'United-States', 'capital-loss0', 'capital-gain0'} , Confidence = 0.9397590361445783\n",
      "{'United-States'} => {'Private', 'United-States', 'capital-loss0'} , Confidence = 0.6506024096385542\n",
      "{'United-States'} => {'White', 'United-States', 'Male'} , Confidence = 0.6626506024096386\n",
      "{'United-States'} => {'United-States', 'Male', 'capital-gain0'} , Confidence = 0.7590361445783133\n",
      "{'United-States'} => {'White', 'United-States', 'capital-gain0'} , Confidence = 0.8313253012048193\n",
      "{'United-States'} => {'Private', 'United-States', 'capital-gain0'} , Confidence = 0.6506024096385542\n",
      "{'United-States'} => {'White', 'capital-loss0', 'Male', 'United-States'} , Confidence = 0.6265060240963856\n",
      "{'United-States'} => {'capital-loss0', 'capital-gain0', 'Male', 'United-States'} , Confidence = 0.7228915662650602\n",
      "{'United-States'} => {'White', 'capital-loss0', 'capital-gain0', 'United-States'} , Confidence = 0.7951807228915663\n",
      "{'United-States'} => {'Private', 'capital-loss0', 'capital-gain0', 'United-States'} , Confidence = 0.6265060240963856\n",
      "{'United-States'} => {'White', 'capital-gain0', 'Male', 'United-States'} , Confidence = 0.6626506024096386\n",
      "{'United-States'} => {'capital-loss0', 'Male', 'United-States', 'White', 'capital-gain0'} , Confidence = 0.6265060240963856\n",
      "{'White'} => {'White', 'hours-per-week4'} , Confidence = 0.6296296296296297\n",
      "{'White'} => {'White', 'capital-loss0'} , Confidence = 0.9506172839506173\n",
      "{'White'} => {'White', 'Male'} , Confidence = 0.7654320987654321\n",
      "{'White'} => {'White', 'United-States'} , Confidence = 0.8765432098765432\n",
      "{'White'} => {'White', 'capital-gain0'} , Confidence = 0.9753086419753086\n",
      "{'White'} => {'Private', 'White'} , Confidence = 0.7037037037037037\n",
      "{'White'} => {'White', 'hours-per-week4', 'capital-gain0'} , Confidence = 0.6172839506172839\n",
      "{'White'} => {'White', 'Male', 'capital-loss0'} , Confidence = 0.7283950617283951\n",
      "{'White'} => {'White', 'United-States', 'capital-loss0'} , Confidence = 0.8395061728395061\n",
      "{'White'} => {'White', 'capital-loss0', 'capital-gain0'} , Confidence = 0.9259259259259259\n",
      "{'White'} => {'Private', 'White', 'capital-loss0'} , Confidence = 0.6666666666666666\n",
      "{'White'} => {'White', 'United-States', 'Male'} , Confidence = 0.6790123456790124\n",
      "{'White'} => {'White', 'Male', 'capital-gain0'} , Confidence = 0.7654320987654321\n",
      "{'White'} => {'White', 'United-States', 'capital-gain0'} , Confidence = 0.8518518518518519\n",
      "{'White'} => {'Private', 'White', 'capital-gain0'} , Confidence = 0.6790123456790124\n",
      "{'White'} => {'White', 'capital-loss0', 'Male', 'United-States'} , Confidence = 0.6419753086419753\n",
      "{'White'} => {'White', 'capital-loss0', 'capital-gain0', 'Male'} , Confidence = 0.7283950617283951\n",
      "{'White'} => {'White', 'capital-loss0', 'capital-gain0', 'United-States'} , Confidence = 0.8148148148148148\n",
      "{'White'} => {'Private', 'White', 'capital-loss0', 'capital-gain0'} , Confidence = 0.6419753086419753\n",
      "{'White'} => {'White', 'capital-gain0', 'Male', 'United-States'} , Confidence = 0.6790123456790124\n",
      "{'White'} => {'capital-loss0', 'Male', 'United-States', 'White', 'capital-gain0'} , Confidence = 0.6419753086419753\n",
      "{'capital-gain0'} => {'hours-per-week4', 'capital-gain0'} , Confidence = 0.6224489795918368\n",
      "{'capital-gain0'} => {'capital-loss0', 'capital-gain0'} , Confidence = 0.9489795918367347\n",
      "{'capital-gain0'} => {'Male', 'capital-gain0'} , Confidence = 0.7551020408163265\n",
      "{'capital-gain0'} => {'United-States', 'capital-gain0'} , Confidence = 0.826530612244898\n",
      "{'capital-gain0'} => {'White', 'capital-gain0'} , Confidence = 0.8061224489795918\n",
      "{'capital-gain0'} => {'Married-civ-spouse', 'capital-gain0'} , Confidence = 0.5612244897959183\n",
      "{'capital-gain0'} => {'fnlwgt1', 'capital-gain0'} , Confidence = 0.5510204081632653\n",
      "{'capital-gain0'} => {'Private', 'capital-gain0'} , Confidence = 0.6938775510204082\n",
      "{'capital-gain0'} => {'hours-per-week4', 'capital-loss0', 'capital-gain0'} , Confidence = 0.6020408163265306\n",
      "{'capital-gain0'} => {'United-States', 'hours-per-week4', 'capital-gain0'} , Confidence = 0.5102040816326531\n",
      "{'capital-gain0'} => {'White', 'hours-per-week4', 'capital-gain0'} , Confidence = 0.5102040816326531\n",
      "{'capital-gain0'} => {'Male', 'capital-loss0', 'capital-gain0'} , Confidence = 0.7244897959183674\n",
      "{'capital-gain0'} => {'United-States', 'capital-loss0', 'capital-gain0'} , Confidence = 0.7959183673469388\n",
      "{'capital-gain0'} => {'White', 'capital-loss0', 'capital-gain0'} , Confidence = 0.7653061224489796\n",
      "{'capital-gain0'} => {'Married-civ-spouse', 'capital-loss0', 'capital-gain0'} , Confidence = 0.5204081632653061\n",
      "{'capital-gain0'} => {'fnlwgt1', 'capital-loss0', 'capital-gain0'} , Confidence = 0.5408163265306123\n",
      "{'capital-gain0'} => {'Private', 'capital-loss0', 'capital-gain0'} , Confidence = 0.6530612244897959\n",
      "{'capital-gain0'} => {'United-States', 'Male', 'capital-gain0'} , Confidence = 0.6428571428571429\n",
      "{'capital-gain0'} => {'White', 'Male', 'capital-gain0'} , Confidence = 0.6326530612244898\n",
      "{'capital-gain0'} => {'White', 'United-States', 'capital-gain0'} , Confidence = 0.7040816326530612\n",
      "{'capital-gain0'} => {'Private', 'United-States', 'capital-gain0'} , Confidence = 0.5510204081632653\n",
      "{'capital-gain0'} => {'Private', 'White', 'capital-gain0'} , Confidence = 0.5612244897959183\n",
      "{'capital-gain0'} => {'capital-loss0', 'capital-gain0', 'Male', 'United-States'} , Confidence = 0.6122448979591837\n",
      "{'capital-gain0'} => {'White', 'capital-loss0', 'capital-gain0', 'Male'} , Confidence = 0.6020408163265306\n",
      "{'capital-gain0'} => {'White', 'capital-loss0', 'capital-gain0', 'United-States'} , Confidence = 0.673469387755102\n",
      "{'capital-gain0'} => {'Private', 'capital-loss0', 'capital-gain0', 'United-States'} , Confidence = 0.5306122448979592\n",
      "{'capital-gain0'} => {'Private', 'White', 'capital-loss0', 'capital-gain0'} , Confidence = 0.5306122448979592\n",
      "{'capital-gain0'} => {'White', 'capital-gain0', 'Male', 'United-States'} , Confidence = 0.5612244897959183\n",
      "{'capital-gain0'} => {'capital-loss0', 'Male', 'United-States', 'White', 'capital-gain0'} , Confidence = 0.5306122448979592\n",
      "{'Married-civ-spouse'} => {'Married-civ-spouse', 'capital-loss0'} , Confidence = 0.9272727272727272\n",
      "{'Married-civ-spouse'} => {'Married-civ-spouse', 'capital-gain0'} , Confidence = 1.0\n",
      "{'Married-civ-spouse'} => {'Married-civ-spouse', 'capital-loss0', 'capital-gain0'} , Confidence = 0.9272727272727272\n",
      "{'fnlwgt1'} => {'fnlwgt1', 'capital-loss0'} , Confidence = 0.9814814814814815\n",
      "{'fnlwgt1'} => {'fnlwgt1', 'capital-gain0'} , Confidence = 1.0\n",
      "{'fnlwgt1'} => {'fnlwgt1', 'capital-loss0', 'capital-gain0'} , Confidence = 0.9814814814814815\n",
      "{'Private'} => {'Private', 'capital-loss0'} , Confidence = 0.9428571428571428\n",
      "{'Private'} => {'Private', 'United-States'} , Confidence = 0.8\n",
      "{'Private'} => {'Private', 'White'} , Confidence = 0.8142857142857143\n",
      "{'Private'} => {'Private', 'capital-gain0'} , Confidence = 0.9714285714285714\n",
      "{'Private'} => {'Private', 'United-States', 'capital-loss0'} , Confidence = 0.7714285714285715\n",
      "{'Private'} => {'Private', 'White', 'capital-loss0'} , Confidence = 0.7714285714285715\n",
      "{'Private'} => {'Private', 'capital-loss0', 'capital-gain0'} , Confidence = 0.9142857142857143\n",
      "{'Private'} => {'Private', 'United-States', 'capital-gain0'} , Confidence = 0.7714285714285715\n",
      "{'Private'} => {'Private', 'White', 'capital-gain0'} , Confidence = 0.7857142857142857\n",
      "{'Private'} => {'Private', 'capital-loss0', 'capital-gain0', 'United-States'} , Confidence = 0.7428571428571429\n",
      "{'Private'} => {'Private', 'White', 'capital-loss0', 'capital-gain0'} , Confidence = 0.7428571428571429\n",
      "{'hours-per-week4', 'capital-loss0'} => {'hours-per-week4', 'capital-loss0', 'capital-gain0'} , Confidence = 0.9833333333333333\n",
      "{'United-States', 'hours-per-week4'} => {'United-States', 'hours-per-week4', 'capital-gain0'} , Confidence = 0.9803921568627451\n",
      "{'White', 'hours-per-week4'} => {'White', 'hours-per-week4', 'capital-gain0'} , Confidence = 0.9803921568627451\n",
      "{'hours-per-week4', 'capital-gain0'} => {'hours-per-week4', 'capital-loss0', 'capital-gain0'} , Confidence = 0.9672131147540983\n",
      "{'hours-per-week4', 'capital-gain0'} => {'United-States', 'hours-per-week4', 'capital-gain0'} , Confidence = 0.819672131147541\n",
      "{'hours-per-week4', 'capital-gain0'} => {'White', 'hours-per-week4', 'capital-gain0'} , Confidence = 0.819672131147541\n",
      "{'Male', 'capital-loss0'} => {'United-States', 'Male', 'capital-loss0'} , Confidence = 0.8450704225352113\n",
      "{'Male', 'capital-loss0'} => {'White', 'Male', 'capital-loss0'} , Confidence = 0.8309859154929577\n",
      "{'Male', 'capital-loss0'} => {'Male', 'capital-loss0', 'capital-gain0'} , Confidence = 1.0\n",
      "{'Male', 'capital-loss0'} => {'White', 'capital-loss0', 'Male', 'United-States'} , Confidence = 0.7323943661971831\n",
      "{'Male', 'capital-loss0'} => {'capital-loss0', 'capital-gain0', 'Male', 'United-States'} , Confidence = 0.8450704225352113\n",
      "{'Male', 'capital-loss0'} => {'White', 'capital-loss0', 'capital-gain0', 'Male'} , Confidence = 0.8309859154929577\n",
      "{'Male', 'capital-loss0'} => {'capital-loss0', 'Male', 'United-States', 'White', 'capital-gain0'} , Confidence = 0.7323943661971831\n",
      "{'United-States', 'capital-loss0'} => {'United-States', 'Male', 'capital-loss0'} , Confidence = 0.75\n",
      "{'United-States', 'capital-loss0'} => {'White', 'United-States', 'capital-loss0'} , Confidence = 0.85\n",
      "{'United-States', 'capital-loss0'} => {'United-States', 'capital-loss0', 'capital-gain0'} , Confidence = 0.975\n",
      "{'United-States', 'capital-loss0'} => {'Private', 'United-States', 'capital-loss0'} , Confidence = 0.675\n",
      "{'United-States', 'capital-loss0'} => {'White', 'capital-loss0', 'Male', 'United-States'} , Confidence = 0.65\n",
      "{'United-States', 'capital-loss0'} => {'capital-loss0', 'capital-gain0', 'Male', 'United-States'} , Confidence = 0.75\n",
      "{'United-States', 'capital-loss0'} => {'White', 'capital-loss0', 'capital-gain0', 'United-States'} , Confidence = 0.825\n",
      "{'United-States', 'capital-loss0'} => {'Private', 'capital-loss0', 'capital-gain0', 'United-States'} , Confidence = 0.65\n",
      "{'United-States', 'capital-loss0'} => {'capital-loss0', 'Male', 'United-States', 'White', 'capital-gain0'} , Confidence = 0.65\n",
      "{'White', 'capital-loss0'} => {'White', 'Male', 'capital-loss0'} , Confidence = 0.7662337662337663\n",
      "{'White', 'capital-loss0'} => {'White', 'United-States', 'capital-loss0'} , Confidence = 0.8831168831168831\n",
      "{'White', 'capital-loss0'} => {'White', 'capital-loss0', 'capital-gain0'} , Confidence = 0.974025974025974\n",
      "{'White', 'capital-loss0'} => {'Private', 'White', 'capital-loss0'} , Confidence = 0.7012987012987013\n",
      "{'White', 'capital-loss0'} => {'White', 'capital-loss0', 'Male', 'United-States'} , Confidence = 0.6753246753246753\n",
      "{'White', 'capital-loss0'} => {'White', 'capital-loss0', 'capital-gain0', 'Male'} , Confidence = 0.7662337662337663\n",
      "{'White', 'capital-loss0'} => {'White', 'capital-loss0', 'capital-gain0', 'United-States'} , Confidence = 0.8571428571428571\n",
      "{'White', 'capital-loss0'} => {'Private', 'White', 'capital-loss0', 'capital-gain0'} , Confidence = 0.6753246753246753\n",
      "{'White', 'capital-loss0'} => {'capital-loss0', 'Male', 'United-States', 'White', 'capital-gain0'} , Confidence = 0.6753246753246753\n",
      "{'capital-loss0', 'capital-gain0'} => {'hours-per-week4', 'capital-loss0', 'capital-gain0'} , Confidence = 0.6344086021505376\n",
      "{'capital-loss0', 'capital-gain0'} => {'Male', 'capital-loss0', 'capital-gain0'} , Confidence = 0.7634408602150538\n",
      "{'capital-loss0', 'capital-gain0'} => {'United-States', 'capital-loss0', 'capital-gain0'} , Confidence = 0.8387096774193549\n",
      "{'capital-loss0', 'capital-gain0'} => {'White', 'capital-loss0', 'capital-gain0'} , Confidence = 0.8064516129032258\n",
      "{'capital-loss0', 'capital-gain0'} => {'Married-civ-spouse', 'capital-loss0', 'capital-gain0'} , Confidence = 0.5483870967741935\n",
      "{'capital-loss0', 'capital-gain0'} => {'fnlwgt1', 'capital-loss0', 'capital-gain0'} , Confidence = 0.5698924731182796\n",
      "{'capital-loss0', 'capital-gain0'} => {'Private', 'capital-loss0', 'capital-gain0'} , Confidence = 0.6881720430107527\n",
      "{'capital-loss0', 'capital-gain0'} => {'capital-loss0', 'capital-gain0', 'Male', 'United-States'} , Confidence = 0.6451612903225806\n",
      "{'capital-loss0', 'capital-gain0'} => {'White', 'capital-loss0', 'capital-gain0', 'Male'} , Confidence = 0.6344086021505376\n",
      "{'capital-loss0', 'capital-gain0'} => {'White', 'capital-loss0', 'capital-gain0', 'United-States'} , Confidence = 0.7096774193548387\n",
      "{'capital-loss0', 'capital-gain0'} => {'Private', 'capital-loss0', 'capital-gain0', 'United-States'} , Confidence = 0.5591397849462365\n",
      "{'capital-loss0', 'capital-gain0'} => {'Private', 'White', 'capital-loss0', 'capital-gain0'} , Confidence = 0.5591397849462365\n",
      "{'capital-loss0', 'capital-gain0'} => {'capital-loss0', 'Male', 'United-States', 'White', 'capital-gain0'} , Confidence = 0.5591397849462365\n",
      "{'Married-civ-spouse', 'capital-loss0'} => {'Married-civ-spouse', 'capital-loss0', 'capital-gain0'} , Confidence = 1.0\n",
      "{'fnlwgt1', 'capital-loss0'} => {'fnlwgt1', 'capital-loss0', 'capital-gain0'} , Confidence = 1.0\n",
      "{'Private', 'capital-loss0'} => {'Private', 'United-States', 'capital-loss0'} , Confidence = 0.8181818181818182\n",
      "{'Private', 'capital-loss0'} => {'Private', 'White', 'capital-loss0'} , Confidence = 0.8181818181818182\n",
      "{'Private', 'capital-loss0'} => {'Private', 'capital-loss0', 'capital-gain0'} , Confidence = 0.9696969696969697\n",
      "{'Private', 'capital-loss0'} => {'Private', 'capital-loss0', 'capital-gain0', 'United-States'} , Confidence = 0.7878787878787878\n",
      "{'Private', 'capital-loss0'} => {'Private', 'White', 'capital-loss0', 'capital-gain0'} , Confidence = 0.7878787878787878\n",
      "{'United-States', 'Male'} => {'United-States', 'Male', 'capital-loss0'} , Confidence = 0.9523809523809523\n",
      "{'United-States', 'Male'} => {'White', 'United-States', 'Male'} , Confidence = 0.873015873015873\n",
      "{'United-States', 'Male'} => {'United-States', 'Male', 'capital-gain0'} , Confidence = 1.0\n",
      "{'United-States', 'Male'} => {'White', 'capital-loss0', 'Male', 'United-States'} , Confidence = 0.8253968253968254\n",
      "{'United-States', 'Male'} => {'capital-loss0', 'capital-gain0', 'Male', 'United-States'} , Confidence = 0.9523809523809523\n",
      "{'United-States', 'Male'} => {'White', 'capital-gain0', 'Male', 'United-States'} , Confidence = 0.873015873015873\n",
      "{'United-States', 'Male'} => {'capital-loss0', 'Male', 'United-States', 'White', 'capital-gain0'} , Confidence = 0.8253968253968254\n",
      "{'White', 'Male'} => {'White', 'Male', 'capital-loss0'} , Confidence = 0.9516129032258065\n",
      "{'White', 'Male'} => {'White', 'United-States', 'Male'} , Confidence = 0.8870967741935484\n",
      "{'White', 'Male'} => {'White', 'Male', 'capital-gain0'} , Confidence = 1.0\n",
      "{'White', 'Male'} => {'White', 'capital-loss0', 'Male', 'United-States'} , Confidence = 0.8387096774193549\n",
      "{'White', 'Male'} => {'White', 'capital-loss0', 'capital-gain0', 'Male'} , Confidence = 0.9516129032258065\n",
      "{'White', 'Male'} => {'White', 'capital-gain0', 'Male', 'United-States'} , Confidence = 0.8870967741935484\n",
      "{'White', 'Male'} => {'capital-loss0', 'Male', 'United-States', 'White', 'capital-gain0'} , Confidence = 0.8387096774193549\n",
      "{'Male', 'capital-gain0'} => {'Male', 'capital-loss0', 'capital-gain0'} , Confidence = 0.9594594594594594\n",
      "{'Male', 'capital-gain0'} => {'United-States', 'Male', 'capital-gain0'} , Confidence = 0.8513513513513513\n",
      "{'Male', 'capital-gain0'} => {'White', 'Male', 'capital-gain0'} , Confidence = 0.8378378378378378\n",
      "{'Male', 'capital-gain0'} => {'capital-loss0', 'capital-gain0', 'Male', 'United-States'} , Confidence = 0.8108108108108109\n",
      "{'Male', 'capital-gain0'} => {'White', 'capital-loss0', 'capital-gain0', 'Male'} , Confidence = 0.7972972972972973\n",
      "{'Male', 'capital-gain0'} => {'White', 'capital-gain0', 'Male', 'United-States'} , Confidence = 0.7432432432432432\n",
      "{'Male', 'capital-gain0'} => {'capital-loss0', 'Male', 'United-States', 'White', 'capital-gain0'} , Confidence = 0.7027027027027027\n",
      "{'White', 'United-States'} => {'White', 'United-States', 'capital-loss0'} , Confidence = 0.9577464788732394\n",
      "{'White', 'United-States'} => {'White', 'United-States', 'Male'} , Confidence = 0.7746478873239436\n",
      "{'White', 'United-States'} => {'White', 'United-States', 'capital-gain0'} , Confidence = 0.971830985915493\n",
      "{'White', 'United-States'} => {'White', 'capital-loss0', 'Male', 'United-States'} , Confidence = 0.7323943661971831\n",
      "{'White', 'United-States'} => {'White', 'capital-loss0', 'capital-gain0', 'United-States'} , Confidence = 0.9295774647887324\n",
      "{'White', 'United-States'} => {'White', 'capital-gain0', 'Male', 'United-States'} , Confidence = 0.7746478873239436\n",
      "{'White', 'United-States'} => {'capital-loss0', 'Male', 'United-States', 'White', 'capital-gain0'} , Confidence = 0.7323943661971831\n",
      "{'United-States', 'capital-gain0'} => {'United-States', 'hours-per-week4', 'capital-gain0'} , Confidence = 0.6172839506172839\n",
      "{'United-States', 'capital-gain0'} => {'United-States', 'capital-loss0', 'capital-gain0'} , Confidence = 0.9629629629629629\n",
      "{'United-States', 'capital-gain0'} => {'United-States', 'Male', 'capital-gain0'} , Confidence = 0.7777777777777778\n",
      "{'United-States', 'capital-gain0'} => {'White', 'United-States', 'capital-gain0'} , Confidence = 0.8518518518518519\n",
      "{'United-States', 'capital-gain0'} => {'Private', 'United-States', 'capital-gain0'} , Confidence = 0.6666666666666666\n",
      "{'United-States', 'capital-gain0'} => {'capital-loss0', 'capital-gain0', 'Male', 'United-States'} , Confidence = 0.7407407407407407\n",
      "{'United-States', 'capital-gain0'} => {'White', 'capital-loss0', 'capital-gain0', 'United-States'} , Confidence = 0.8148148148148148\n",
      "{'United-States', 'capital-gain0'} => {'Private', 'capital-loss0', 'capital-gain0', 'United-States'} , Confidence = 0.6419753086419753\n",
      "{'United-States', 'capital-gain0'} => {'White', 'capital-gain0', 'Male', 'United-States'} , Confidence = 0.6790123456790124\n",
      "{'United-States', 'capital-gain0'} => {'capital-loss0', 'Male', 'United-States', 'White', 'capital-gain0'} , Confidence = 0.6419753086419753\n",
      "{'Private', 'United-States'} => {'Private', 'United-States', 'capital-loss0'} , Confidence = 0.9642857142857143\n",
      "{'Private', 'United-States'} => {'Private', 'United-States', 'capital-gain0'} , Confidence = 0.9642857142857143\n",
      "{'Private', 'United-States'} => {'Private', 'capital-loss0', 'capital-gain0', 'United-States'} , Confidence = 0.9285714285714286\n",
      "{'White', 'capital-gain0'} => {'White', 'hours-per-week4', 'capital-gain0'} , Confidence = 0.6329113924050633\n",
      "{'White', 'capital-gain0'} => {'White', 'capital-loss0', 'capital-gain0'} , Confidence = 0.9493670886075949\n",
      "{'White', 'capital-gain0'} => {'White', 'Male', 'capital-gain0'} , Confidence = 0.7848101265822784\n",
      "{'White', 'capital-gain0'} => {'White', 'United-States', 'capital-gain0'} , Confidence = 0.8734177215189873\n",
      "{'White', 'capital-gain0'} => {'Private', 'White', 'capital-gain0'} , Confidence = 0.6962025316455697\n",
      "{'White', 'capital-gain0'} => {'White', 'capital-loss0', 'capital-gain0', 'Male'} , Confidence = 0.7468354430379747\n",
      "{'White', 'capital-gain0'} => {'White', 'capital-loss0', 'capital-gain0', 'United-States'} , Confidence = 0.8354430379746836\n",
      "{'White', 'capital-gain0'} => {'Private', 'White', 'capital-loss0', 'capital-gain0'} , Confidence = 0.6582278481012658\n",
      "{'White', 'capital-gain0'} => {'White', 'capital-gain0', 'Male', 'United-States'} , Confidence = 0.6962025316455697\n",
      "{'White', 'capital-gain0'} => {'capital-loss0', 'Male', 'United-States', 'White', 'capital-gain0'} , Confidence = 0.6582278481012658\n",
      "{'Private', 'White'} => {'Private', 'White', 'capital-loss0'} , Confidence = 0.9473684210526315\n",
      "{'Private', 'White'} => {'Private', 'White', 'capital-gain0'} , Confidence = 0.9649122807017544\n",
      "{'Private', 'White'} => {'Private', 'White', 'capital-loss0', 'capital-gain0'} , Confidence = 0.9122807017543859\n",
      "{'Married-civ-spouse', 'capital-gain0'} => {'Married-civ-spouse', 'capital-loss0', 'capital-gain0'} , Confidence = 0.9272727272727272\n",
      "{'fnlwgt1', 'capital-gain0'} => {'fnlwgt1', 'capital-loss0', 'capital-gain0'} , Confidence = 0.9814814814814815\n",
      "{'Private', 'capital-gain0'} => {'Private', 'capital-loss0', 'capital-gain0'} , Confidence = 0.9411764705882353\n",
      "{'Private', 'capital-gain0'} => {'Private', 'United-States', 'capital-gain0'} , Confidence = 0.7941176470588235\n",
      "{'Private', 'capital-gain0'} => {'Private', 'White', 'capital-gain0'} , Confidence = 0.8088235294117647\n",
      "{'Private', 'capital-gain0'} => {'Private', 'capital-loss0', 'capital-gain0', 'United-States'} , Confidence = 0.7647058823529411\n",
      "{'Private', 'capital-gain0'} => {'Private', 'White', 'capital-loss0', 'capital-gain0'} , Confidence = 0.7647058823529411\n",
      "{'United-States', 'Male', 'capital-loss0'} => {'White', 'capital-loss0', 'Male', 'United-States'} , Confidence = 0.8666666666666667\n",
      "{'United-States', 'Male', 'capital-loss0'} => {'capital-loss0', 'capital-gain0', 'Male', 'United-States'} , Confidence = 1.0\n",
      "{'United-States', 'Male', 'capital-loss0'} => {'capital-loss0', 'Male', 'United-States', 'White', 'capital-gain0'} , Confidence = 0.8666666666666667\n",
      "{'White', 'Male', 'capital-loss0'} => {'White', 'capital-loss0', 'Male', 'United-States'} , Confidence = 0.8813559322033898\n",
      "{'White', 'Male', 'capital-loss0'} => {'White', 'capital-loss0', 'capital-gain0', 'Male'} , Confidence = 1.0\n",
      "{'White', 'Male', 'capital-loss0'} => {'capital-loss0', 'Male', 'United-States', 'White', 'capital-gain0'} , Confidence = 0.8813559322033898\n",
      "{'Male', 'capital-loss0', 'capital-gain0'} => {'capital-loss0', 'capital-gain0', 'Male', 'United-States'} , Confidence = 0.8450704225352113\n",
      "{'Male', 'capital-loss0', 'capital-gain0'} => {'White', 'capital-loss0', 'capital-gain0', 'Male'} , Confidence = 0.8309859154929577\n",
      "{'Male', 'capital-loss0', 'capital-gain0'} => {'capital-loss0', 'Male', 'United-States', 'White', 'capital-gain0'} , Confidence = 0.7323943661971831\n",
      "{'White', 'United-States', 'capital-loss0'} => {'White', 'capital-loss0', 'Male', 'United-States'} , Confidence = 0.7647058823529411\n",
      "{'White', 'United-States', 'capital-loss0'} => {'White', 'capital-loss0', 'capital-gain0', 'United-States'} , Confidence = 0.9705882352941176\n",
      "{'White', 'United-States', 'capital-loss0'} => {'capital-loss0', 'Male', 'United-States', 'White', 'capital-gain0'} , Confidence = 0.7647058823529411\n",
      "{'United-States', 'capital-loss0', 'capital-gain0'} => {'capital-loss0', 'capital-gain0', 'Male', 'United-States'} , Confidence = 0.7692307692307693\n",
      "{'United-States', 'capital-loss0', 'capital-gain0'} => {'White', 'capital-loss0', 'capital-gain0', 'United-States'} , Confidence = 0.8461538461538461\n",
      "{'United-States', 'capital-loss0', 'capital-gain0'} => {'Private', 'capital-loss0', 'capital-gain0', 'United-States'} , Confidence = 0.6666666666666666\n",
      "{'United-States', 'capital-loss0', 'capital-gain0'} => {'capital-loss0', 'Male', 'United-States', 'White', 'capital-gain0'} , Confidence = 0.6666666666666666\n",
      "{'Private', 'United-States', 'capital-loss0'} => {'Private', 'capital-loss0', 'capital-gain0', 'United-States'} , Confidence = 0.9629629629629629\n",
      "{'White', 'capital-loss0', 'capital-gain0'} => {'White', 'capital-loss0', 'capital-gain0', 'Male'} , Confidence = 0.7866666666666666\n",
      "{'White', 'capital-loss0', 'capital-gain0'} => {'White', 'capital-loss0', 'capital-gain0', 'United-States'} , Confidence = 0.88\n",
      "{'White', 'capital-loss0', 'capital-gain0'} => {'Private', 'White', 'capital-loss0', 'capital-gain0'} , Confidence = 0.6933333333333334\n",
      "{'White', 'capital-loss0', 'capital-gain0'} => {'capital-loss0', 'Male', 'United-States', 'White', 'capital-gain0'} , Confidence = 0.6933333333333334\n",
      "{'Private', 'White', 'capital-loss0'} => {'Private', 'White', 'capital-loss0', 'capital-gain0'} , Confidence = 0.9629629629629629\n",
      "{'Private', 'capital-loss0', 'capital-gain0'} => {'Private', 'capital-loss0', 'capital-gain0', 'United-States'} , Confidence = 0.8125\n",
      "{'Private', 'capital-loss0', 'capital-gain0'} => {'Private', 'White', 'capital-loss0', 'capital-gain0'} , Confidence = 0.8125\n",
      "{'White', 'United-States', 'Male'} => {'White', 'capital-loss0', 'Male', 'United-States'} , Confidence = 0.9454545454545454\n",
      "{'White', 'United-States', 'Male'} => {'White', 'capital-gain0', 'Male', 'United-States'} , Confidence = 1.0\n",
      "{'White', 'United-States', 'Male'} => {'capital-loss0', 'Male', 'United-States', 'White', 'capital-gain0'} , Confidence = 0.9454545454545454\n",
      "{'United-States', 'Male', 'capital-gain0'} => {'capital-loss0', 'capital-gain0', 'Male', 'United-States'} , Confidence = 0.9523809523809523\n",
      "{'United-States', 'Male', 'capital-gain0'} => {'White', 'capital-gain0', 'Male', 'United-States'} , Confidence = 0.873015873015873\n",
      "{'United-States', 'Male', 'capital-gain0'} => {'capital-loss0', 'Male', 'United-States', 'White', 'capital-gain0'} , Confidence = 0.8253968253968254\n",
      "{'White', 'Male', 'capital-gain0'} => {'White', 'capital-loss0', 'capital-gain0', 'Male'} , Confidence = 0.9516129032258065\n",
      "{'White', 'Male', 'capital-gain0'} => {'White', 'capital-gain0', 'Male', 'United-States'} , Confidence = 0.8870967741935484\n",
      "{'White', 'Male', 'capital-gain0'} => {'capital-loss0', 'Male', 'United-States', 'White', 'capital-gain0'} , Confidence = 0.8387096774193549\n",
      "{'White', 'United-States', 'capital-gain0'} => {'White', 'capital-loss0', 'capital-gain0', 'United-States'} , Confidence = 0.9565217391304348\n",
      "{'White', 'United-States', 'capital-gain0'} => {'White', 'capital-gain0', 'Male', 'United-States'} , Confidence = 0.7971014492753623\n",
      "{'White', 'United-States', 'capital-gain0'} => {'capital-loss0', 'Male', 'United-States', 'White', 'capital-gain0'} , Confidence = 0.7536231884057971\n",
      "{'Private', 'United-States', 'capital-gain0'} => {'Private', 'capital-loss0', 'capital-gain0', 'United-States'} , Confidence = 0.9629629629629629\n",
      "{'Private', 'White', 'capital-gain0'} => {'Private', 'White', 'capital-loss0', 'capital-gain0'} , Confidence = 0.9454545454545454\n",
      "{'White', 'capital-loss0', 'Male', 'United-States'} => {'capital-loss0', 'Male', 'United-States', 'White', 'capital-gain0'} , Confidence = 1.0\n",
      "{'capital-loss0', 'capital-gain0', 'Male', 'United-States'} => {'capital-loss0', 'Male', 'United-States', 'White', 'capital-gain0'} , Confidence = 0.8666666666666667\n",
      "{'White', 'capital-loss0', 'capital-gain0', 'Male'} => {'capital-loss0', 'Male', 'United-States', 'White', 'capital-gain0'} , Confidence = 0.8813559322033898\n",
      "{'White', 'capital-loss0', 'capital-gain0', 'United-States'} => {'capital-loss0', 'Male', 'United-States', 'White', 'capital-gain0'} , Confidence = 0.7878787878787878\n",
      "{'White', 'capital-gain0', 'Male', 'United-States'} => {'capital-loss0', 'Male', 'United-States', 'White', 'capital-gain0'} , Confidence = 0.9454545454545454\n"
     ]
    }
   ],
   "source": [
    "def association_generation(fre_item_set):\n",
    "    for set1 in fre_item_set:\n",
    "        for set2 in fre_item_set:\n",
    "            if len(set2[0]) > 1 and set1[0].issubset(set2[0]) and set1[0] != set2[0]:\n",
    "                print(set1[0], '=>', set2[0], ', Confidence =',\n",
    "                      confidence(set1[0], set2[0] ,adult_fre_item_set1))\n",
    "\n",
    "association_generation(adult_fre_item_set1)"
   ],
   "metadata": {
    "collapsed": false,
    "pycharm": {
     "name": "#%%\n"
    }
   }
  }
 ],
 "metadata": {
  "kernelspec": {
   "name": "pycharm-74842517",
   "language": "python",
   "display_name": "PyCharm (CSC240)"
  },
  "language_info": {
   "codemirror_mode": {
    "name": "ipython",
    "version": 2
   },
   "file_extension": ".py",
   "mimetype": "text/x-python",
   "name": "python",
   "nbconvert_exporter": "python",
   "pygments_lexer": "ipython2",
   "version": "2.7.6"
  }
 },
 "nbformat": 4,
 "nbformat_minor": 0
}